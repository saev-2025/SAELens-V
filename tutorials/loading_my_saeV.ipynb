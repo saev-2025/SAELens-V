{
 "cells": [
  {
   "cell_type": "markdown",
   "metadata": {
    "id": "MNk7IylTv610"
   },
   "source": [
    "# Loading and Analysing Pre-Trained Sparse Autoencoders"
   ]
  },
  {
   "cell_type": "markdown",
   "metadata": {
    "id": "i_DusoOvwV0M"
   },
   "source": [
    "## Imports & Installs"
   ]
  },
  {
   "cell_type": "code",
   "execution_count": 1,
   "metadata": {
    "id": "yfDUxRx0wSRl"
   },
   "outputs": [],
   "source": [
    "try:\n",
    "    import google.colab # type: ignore\n",
    "    from google.colab import output\n",
    "    COLAB = True\n",
    "    %pip install sae-lens transformer-lens\n",
    "except:\n",
    "    COLAB = False\n",
    "    from IPython import get_ipython # type: ignore\n",
    "    ipython = get_ipython(); assert ipython is not None\n",
    "    ipython.run_line_magic(\"load_ext\", \"autoreload\")\n",
    "    ipython.run_line_magic(\"autoreload\", \"2\")\n",
    "\n",
    "# Standard imports\n",
    "import os\n",
    "import torch\n",
    "from tqdm import tqdm\n",
    "import plotly.express as px\n",
    "\n",
    "# Imports for displaying vis in Colab / notebook\n",
    "import webbrowser\n",
    "import http.server\n",
    "import socketserver\n",
    "import threading\n",
    "PORT = 8000\n",
    "\n",
    "torch.set_grad_enabled(False);"
   ]
  },
  {
   "cell_type": "markdown",
   "metadata": {
    "id": "7aGgWkbav610"
   },
   "source": [
    "## Set Up"
   ]
  },
  {
   "cell_type": "code",
   "execution_count": null,
   "metadata": {
    "colab": {
     "base_uri": "https://localhost:8080/"
    },
    "id": "rQSD7trbv610",
    "outputId": "222a40c4-75d4-46e2-ed3f-991841144926"
   },
   "outputs": [],
   "source": [
    "# For the most part I'll try to import functions and classes near where they are used\n",
    "# to make it clear where they come from.\n",
    "\n",
    "if torch.backends.mps.is_available():\n",
    "    device = \"mps\"\n",
    "else:\n",
    "    device = \"cuda:6\" if torch.cuda.is_available() else \"cpu\"\n",
    "\n",
    "print(f\"Device: {device}\")"
   ]
  },
  {
   "cell_type": "code",
   "execution_count": 3,
   "metadata": {
    "id": "cPUq_bdW8mcp"
   },
   "outputs": [],
   "source": [
    "def display_vis_inline(filename: str, height: int = 850):\n",
    "    '''\n",
    "    Displays the HTML files in Colab. Uses global `PORT` variable defined in prev cell, so that each\n",
    "    vis has a unique port without having to define a port within the function.\n",
    "    '''\n",
    "    if not(COLAB):\n",
    "        webbrowser.open(filename);\n",
    "\n",
    "    else:\n",
    "        global PORT\n",
    "\n",
    "        def serve(directory):\n",
    "            os.chdir(directory)\n",
    "\n",
    "            # Create a handler for serving files\n",
    "            handler = http.server.SimpleHTTPRequestHandler\n",
    "\n",
    "            # Create a socket server with the handler\n",
    "            with socketserver.TCPServer((\"\", PORT), handler) as httpd:\n",
    "                print(f\"Serving files from {directory} on port {PORT}\")\n",
    "                httpd.serve_forever()\n",
    "\n",
    "        thread = threading.Thread(target=serve, args=(\"/content\",))\n",
    "        thread.start()\n",
    "\n",
    "        output.serve_kernel_port_as_iframe(PORT, path=f\"/{filename}\", height=height, cache_in_notebook=True)\n",
    "\n",
    "        PORT += 1"
   ]
  },
  {
   "cell_type": "markdown",
   "metadata": {
    "id": "XoMx3VZpv611"
   },
   "source": [
    "# Loading a pretrained Sparse Autoencoder\n",
    "\n",
    "Below we load a Transformerlens model, a pretrained SAE and a dataset from huggingface."
   ]
  },
  {
   "cell_type": "code",
   "execution_count": null,
   "metadata": {
    "id": "sNSfL80Uv611"
   },
   "outputs": [],
   "source": [
    "from datasets import Dataset, DatasetDict, IterableDataset, load_dataset,load_from_disk\n",
    "from transformer_lens import HookedTransformer\n",
    "from typing import Any, Generator, Iterator, Literal, cast\n",
    "from sae_lens import SAE\n",
    "from transformers import (\n",
    "    AutoTokenizer,\n",
    "    LlavaNextForConditionalGeneration,\n",
    "    LlavaNextProcessor,\n",
    "    AutoModelForCausalLM,\n",
    ")\n",
    "\n",
    "from transformer_lens.HookedLlava import HookedLlava\n",
    "MODEL_NAME = \"llava-hf/llava-v1.6-mistral-7b-hf\"\n",
    "model_path=\"../model/llava-v1.6-mistral-7b-hf\"\n",
    "\n",
    "processor = LlavaNextProcessor.from_pretrained(model_path)\n",
    "vision_model = LlavaNextForConditionalGeneration.from_pretrained(\n",
    "        model_path, \n",
    "        torch_dtype=torch.float32, \n",
    "        low_cpu_mem_usage=True,\n",
    ")\n",
    "\n",
    "vision_tower = vision_model.vision_tower.to(\"cuda:5\")\n",
    "multi_modal_projector = vision_model.multi_modal_projector.to(\"cuda:5\")\n",
    "\n",
    "hook_language_model = HookedLlava.from_pretrained(\n",
    "        MODEL_NAME,\n",
    "        hf_model=vision_model.language_model,\n",
    "        device=\"cuda:5\", \n",
    "        fold_ln=False,\n",
    "        center_writing_weights=False,\n",
    "        center_unembed=False,\n",
    "        tokenizer=None,\n",
    "        dtype=torch.float32,\n",
    "        vision_tower=vision_tower,\n",
    "        multi_modal_projector=multi_modal_projector,\n",
    "        n_devices=2,\n",
    "    )\n",
    "\n",
    "sae = SAE.load_from_pretrained(\n",
    "    path = \"\",\n",
    "    device =\"cuda:7\"\n",
    ")"
   ]
  },
  {
   "cell_type": "code",
   "execution_count": null,
   "metadata": {},
   "outputs": [],
   "source": [
    "from transformer_lens.utils import tokenize_and_concatenate\n",
    "import transformer_lens.utils as utils\n",
    "dataset_path=\"\"\n",
    "try:\n",
    "    dataset = (\n",
    "        load_dataset(\n",
    "                dataset_path,\n",
    "                split=\"train\",\n",
    "                streaming=False,\n",
    "                trust_remote_code=False,  # type: ignore\n",
    "        )\n",
    "        if isinstance(dataset_path, str)\n",
    "            else dataset_path\n",
    "        )\n",
    "except Exception as e:\n",
    "    dataset = (\n",
    "        load_from_disk(\n",
    "                dataset_path,\n",
    "            )\n",
    "            if isinstance(dataset_path, str)\n",
    "            else dataset_path\n",
    "        )\n",
    "if isinstance(dataset, (Dataset, DatasetDict)):\n",
    "        dataset = cast(Dataset | DatasetDict, dataset)\n",
    "# dataset_sample = next(iter(dataset))\n",
    "columns_to_read=[\"input_ids\",\"pixel_values\",\"attention_mask\",\"image_sizes\"]\n",
    "ds_context_size = len(dataset[\"input_ids\"])\n",
    "if hasattr(dataset, \"set_format\"):\n",
    "    dataset.set_format(type=\"torch\", columns=columns_to_read)\n",
    "    print(\"dataset set format\")"
   ]
  },
  {
   "cell_type": "code",
   "execution_count": 6,
   "metadata": {},
   "outputs": [],
   "source": [
    "batch_size = 2\n",
    "batch = dataset[:batch_size]\n",
    "batch_tokens = {\n",
    "    \"input_ids\": batch[\"input_ids\"],\n",
    "    \"pixel_values\": batch[\"pixel_values\"],\n",
    "    \"attention_mask\": batch[\"attention_mask\"],\n",
    "    \"image_sizes\": batch[\"image_sizes\"],\n",
    "}"
   ]
  },
  {
   "cell_type": "markdown",
   "metadata": {
    "id": "gy2uUl38v611"
   },
   "source": [
    "## Basic Analysis\n",
    "\n",
    "Let's check some basic stats on this SAE in order to see how some basic functionality in the codebase works.\n",
    "\n",
    "We'll calculate:\n",
    "- L0 (the number of features that fire per activation)\n",
    "- The cross entropy loss when the output of the SAE is used in place of the activations"
   ]
  },
  {
   "cell_type": "markdown",
   "metadata": {
    "id": "xOcubgsRv611"
   },
   "source": [
    "### L0 Test and Reconstruction Test"
   ]
  },
  {
   "cell_type": "code",
   "execution_count": null,
   "metadata": {},
   "outputs": [],
   "source": [
    "sae.cfg"
   ]
  },
  {
   "cell_type": "code",
   "execution_count": null,
   "metadata": {
    "id": "gAUR5CRBv611"
   },
   "outputs": [],
   "source": [
    "sae.eval()  # prevents error if we're expecting a dead neuron mask for who grads\n",
    "\n",
    "with torch.no_grad():\n",
    "    # activation store can give us tokens.\n",
    "    _, cache = hook_language_model.run_with_cache(batch_tokens, prepend_bos=True, names_filter=lambda name: name == sae.cfg.hook_name)\n",
    "    tmp_cache=cache[sae.cfg.hook_name]\n",
    "    tmp_cache=tmp_cache.to(sae.device)\n",
    "    # Use the SAE\n",
    "    feature_acts = sae.encode(tmp_cache)\n",
    "    sae_out = sae.decode(feature_acts)\n",
    "\n",
    "    # save some room\n",
    "    del cache\n",
    "\n",
    "    # ignore the bos token, get the number of features that activated in each token, averaged accross batch and position\n",
    "    l0 = (feature_acts[:, 1:] > 0).float().sum(-1).detach()\n",
    "    print(\"average l0\", l0.mean().item())\n",
    "    px.histogram(l0.flatten().cpu().numpy()).show()\n",
    "    "
   ]
  },
  {
   "cell_type": "markdown",
   "metadata": {
    "id": "ijoelLtdv611"
   },
   "source": [
    "Note that while the mean L0 is 64, it varies with the specific activation.\n",
    "\n",
    "To estimate reconstruction performance, we calculate the CE loss of the model with and without the SAE being used in place of the activations. This will vary depending on the tokens."
   ]
  },
  {
   "cell_type": "code",
   "execution_count": null,
   "metadata": {
    "id": "fwrSvREJv612"
   },
   "outputs": [],
   "source": [
    "from transformer_lens import utils\n",
    "from functools import partial\n",
    "torch.cuda.empty_cache()\n",
    "# next we want to do a reconstruction test.\n",
    "def reconstr_hook(activation, hook, sae_out):\n",
    "    return sae_out\n",
    "\n",
    "\n",
    "def zero_abl_hook(activation, hook):\n",
    "    return torch.zeros_like(activation)\n",
    "\n",
    "\n",
    "print(\"Orig\", hook_language_model(batch_tokens, return_type=\"loss\").item())\n",
    "print(\n",
    "    \"reconstr\",\n",
    "    hook_language_model.run_with_hooks(\n",
    "        batch_tokens,\n",
    "        fwd_hooks=[\n",
    "            (\n",
    "                sae.cfg.hook_name,\n",
    "                partial(reconstr_hook, sae_out=sae_out),\n",
    "            )\n",
    "        ],\n",
    "        return_type=\"loss\",\n",
    "    ).item(),\n",
    ")\n",
    "print(\n",
    "    \"Zero\",\n",
    "    hook_language_model.run_with_hooks(\n",
    "        batch_tokens,\n",
    "        return_type=\"loss\",\n",
    "        fwd_hooks=[(sae.cfg.hook_name, zero_abl_hook)],\n",
    "    ).item(),\n",
    ")"
   ]
  },
  {
   "cell_type": "markdown",
   "metadata": {
    "id": "B_TRq_lFv612"
   },
   "source": [
    "## Specific Capability Test\n",
    "\n",
    "Validating model performance on specific tasks when using the reconstructed activation is quite important when studying specific tasks."
   ]
  },
  {
   "cell_type": "code",
   "execution_count": null,
   "metadata": {
    "id": "npxKip_Qv612"
   },
   "outputs": [],
   "source": [
    "example_prompt = \"The fruit in the image is \"\n",
    "example_answer = \"Apple\"\n",
    "torch.cuda.empty_cache()\n",
    "\n",
    "from PIL import Image\n",
    "image_path=\"../TransformerLens-V/Apple.jpg\"\n",
    "image = Image.open(image_path)\n",
    "image=image.resize((336, 336))\n",
    "conversation = [\n",
    "        {\n",
    "            \"role\": \"user\",\n",
    "            \"content\": [\n",
    "                {\"type\": \"text\", \"text\": example_prompt},\n",
    "                {\"type\": \"image\"},\n",
    "            ],\n",
    "        },\n",
    "    ]\n",
    "prompt = processor.apply_chat_template(conversation, add_generation_prompt=True)\n",
    "    \n",
    "    # 处理图像和文本输入\n",
    "inputs = processor(images=image, text=prompt, return_tensors=\"pt\")\n",
    "# print(inputs)\n",
    "inputs=inputs.to(\"cuda:6\")\n",
    "logits, cache = hook_language_model.run_with_cache(input=inputs,model_inputs=inputs,vision=True, prepend_bos=True)\n",
    "# inputs = hook_language_model.to_tokens(inputs)\n",
    "sae_out = sae(cache[sae.cfg.hook_name])\n",
    "\n",
    "\n",
    "\n",
    "def reconstr_hook(activations, hook, sae_out):\n",
    "    return sae_out\n",
    "\n",
    "\n",
    "def zero_abl_hook(mlp_out, hook):\n",
    "    return torch.zeros_like(mlp_out)\n",
    "\n",
    "\n",
    "hook_name = sae.cfg.hook_name\n",
    "\n",
    "print(\"Orig\", hook_language_model(inputs,model_inputs=inputs,vision=True, return_type=\"loss\").item())\n",
    "print(\n",
    "    \"reconstr\",\n",
    "    hook_language_model.run_with_hooks(\n",
    "        inputs,\n",
    "        fwd_hooks=[\n",
    "            (\n",
    "                hook_name,\n",
    "                partial(reconstr_hook, sae_out=sae_out),\n",
    "            )\n",
    "        ],\n",
    "        return_type=\"loss\",\n",
    "    ).item(),\n",
    ")\n",
    "print(\n",
    "    \"Zero\",\n",
    "    hook_language_model.run_with_hooks(\n",
    "        inputs,\n",
    "        return_type=\"loss\",\n",
    "        fwd_hooks=[(hook_name, zero_abl_hook)],\n",
    "    ).item(),\n",
    ")\n"
   ]
  },
  {
   "cell_type": "code",
   "execution_count": null,
   "metadata": {},
   "outputs": [],
   "source": [
    "example_prompt=\"The sky is blue today.\"\n",
    "tokens=processor.tokenizer(example_prompt)\n",
    "print(tokens)"
   ]
  },
  {
   "cell_type": "code",
   "execution_count": null,
   "metadata": {
    "id": "edt8ag4fv612"
   },
   "outputs": [],
   "source": [
    "from sae_vis.data_config_classes import SaeVisConfig\n",
    "from sae_vis.data_storing_fns import SaeVisData\n",
    "torch.cuda.empty_cache()\n",
    "sae.eval()\n",
    "test_feature_idx_gpt = list(range(10)) + [14057]\n",
    "hook_name = sae.cfg.hook_name\n",
    "feature_vis_config_gpt = SaeVisConfig(\n",
    "    hook_point=hook_name,\n",
    "    features=test_feature_idx_gpt,\n",
    "    minibatch_size_tokens=128,\n",
    "    verbose=True,\n",
    ")\n",
    "torch.cuda.empty_cache()\n",
    "sae_vis_data_gpt = SaeVisData.create(\n",
    "    encoder=sae,\n",
    "    model=hook_language_model, \n",
    "    tokens=tokens['input_ids'],  \n",
    "    cfg=feature_vis_config_gpt,\n",
    ")"
   ]
  },
  {
   "cell_type": "code",
   "execution_count": null,
   "metadata": {
    "id": "yQ94Frzbv612"
   },
   "outputs": [],
   "source": [
    "for feature in test_feature_idx_gpt:\n",
    "    filename = f\"{feature}_feature_vis_demo_gpt.html\"\n",
    "    sae_vis_data_gpt.save_feature_centric_vis(filename, feature)\n",
    "    display_vis_inline(filename)"
   ]
  },
  {
   "cell_type": "markdown",
   "metadata": {
    "id": "AUaD6CFDv612"
   },
   "source": [
    "Now, since generating feature dashboards can be done once per sparse autoencoder, for pre-trained SAEs in the public domain, everyone can use the same dashboards. Neuronpedia hosts dashboards which we can load via the intergration."
   ]
  }
 ],
 "metadata": {
  "accelerator": "GPU",
  "colab": {
   "gpuType": "T4",
   "provenance": []
  },
  "kernelspec": {
   "display_name": "sae",
   "language": "python",
   "name": "python3"
  },
  "language_info": {
   "codemirror_mode": {
    "name": "ipython",
    "version": 3
   },
   "file_extension": ".py",
   "mimetype": "text/x-python",
   "name": "python",
   "nbconvert_exporter": "python",
   "pygments_lexer": "ipython3",
   "version": "3.10.16"
  }
 },
 "nbformat": 4,
 "nbformat_minor": 0
}
